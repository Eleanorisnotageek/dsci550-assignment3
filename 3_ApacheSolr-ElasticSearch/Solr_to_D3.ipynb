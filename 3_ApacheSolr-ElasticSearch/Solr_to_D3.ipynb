{
 "cells": [
  {
   "cell_type": "markdown",
   "id": "eceabab1",
   "metadata": {},
   "source": [
    "# Connecting Solr to D3.js: Haunted Places Data Visualization\n",
    "\n",
    "Steps to connect **Apache Solr** to **D3.js** for live data visualization.\n"
   ]
  },
  {
   "cell_type": "markdown",
   "id": "eecda082",
   "metadata": {},
   "source": [
    "## Steps Taken:\n",
    "\n",
    "- Set up **Solr** using Docker, created a custom Solr core (`assignment3`), and ingested my Haunted Places dataset after converting it from TSV → JSON array format.\n",
    "- Confirmed that my documents were searchable through the Solr Admin UI (`http://localhost:8983/solr/#/assignment3/query`).\n"
   ]
  },
  {
   "cell_type": "markdown",
   "id": "8692b272",
   "metadata": {},
   "source": [
    "## Linking Solr to D3.js:\n",
    "\n",
    "- Created an HTML page (`test_solr_d3.html`) to dynamically fetch JSON data from Solr.\n",
    "- Fetched data using the Solr endpoint:\n",
    "http://localhost:8983/solr/assignment3/select?q=*:*&rows=1000"
   ]
  },
  {
   "cell_type": "markdown",
   "id": "033bb3da",
   "metadata": {},
   "source": [
    "- Initially encountered **CORS policy issues** and **D3.js callback function errors**.\n",
    "- Updated the D3.js script to use **Promise-based syntax** (`.then()`) instead of the outdated callback style.\n",
    "- Successfully retrieved the documents array and dynamically appended `<p>` elements to the page showing each haunted place's **city**, **country**, and **description**.\n"
   ]
  },
  {
   "cell_type": "markdown",
   "id": "a3648b40",
   "metadata": {},
   "source": [
    "## Final Result:\n",
    "\n",
    "- The Haunted Places data is now dynamically fetched from the running Solr server and rendered on the HTML page using D3.js.\n",
    "- The final visualization displays live Solr data without needing static files.\n"
   ]
  },
  {
   "cell_type": "markdown",
   "id": "d068c632",
   "metadata": {},
   "source": []
  }
 ],
 "metadata": {
  "language_info": {
   "name": "python"
  }
 },
 "nbformat": 4,
 "nbformat_minor": 5
}
