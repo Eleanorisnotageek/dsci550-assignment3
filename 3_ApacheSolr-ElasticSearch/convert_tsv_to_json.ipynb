{
 "cells": [
  {
   "cell_type": "code",
   "execution_count": 1,
   "metadata": {},
   "outputs": [],
   "source": [
    "# imports\n",
    "import csv\n",
    "import json"
   ]
  },
  {
   "cell_type": "code",
   "execution_count": 2,
   "metadata": {},
   "outputs": [],
   "source": [
    "# Input and output filenames\n",
    "input_tsv = '../Dataset/final_haunted_places.tsv'\n",
    "output_json = '../Dataset/final_haunted_places.json'\n",
    "\n"
   ]
  },
  {
   "cell_type": "code",
   "execution_count": 3,
   "metadata": {},
   "outputs": [],
   "source": [
    "# Read TSV and convert to list of dictionaries\n",
    "data = []\n",
    "with open(input_tsv, mode='r', encoding='utf-8') as tsv_file:\n",
    "    reader = csv.DictReader(tsv_file, delimiter='\\t')\n",
    "    for row in reader:\n",
    "        # Clean empty fields if needed\n",
    "        clean_row = {k: v for k, v in row.items() if v != ''}\n",
    "        data.append(clean_row)\n"
   ]
  },
  {
   "cell_type": "code",
   "execution_count": 4,
   "metadata": {},
   "outputs": [
    {
     "name": "stdout",
     "output_type": "stream",
     "text": [
      "Successfully converted ../Dataset/final_haunted_places.tsv to ../Dataset/final_haunted_places.json\n"
     ]
    }
   ],
   "source": [
    "# Save as JSON\n",
    "with open(output_json, mode='w', encoding='utf-8') as json_file:\n",
    "    json.dump(data, json_file, indent=2)\n",
    "\n",
    "print(f\"Successfully converted {input_tsv} to {output_json}\")"
   ]
  },
  {
   "cell_type": "code",
   "execution_count": null,
   "metadata": {},
   "outputs": [],
   "source": []
  }
 ],
 "metadata": {
  "kernelspec": {
   "display_name": "Python 3",
   "language": "python",
   "name": "python3"
  },
  "language_info": {
   "codemirror_mode": {
    "name": "ipython",
    "version": 3
   },
   "file_extension": ".py",
   "mimetype": "text/x-python",
   "name": "python",
   "nbconvert_exporter": "python",
   "pygments_lexer": "ipython3",
   "version": "3.13.2"
  }
 },
 "nbformat": 4,
 "nbformat_minor": 2
}
