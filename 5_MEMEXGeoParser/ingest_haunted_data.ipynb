{
 "cells": [
  {
   "cell_type": "code",
   "execution_count": 4,
   "metadata": {},
   "outputs": [
    {
     "name": "stdout",
     "output_type": "stream",
     "text": [
      "Requirement already satisfied: ipywidgets in /Users/tarun/Documents/Spring 2025/DSCI550/DSCI550_Assignment3/myenv/lib/python3.10/site-packages (8.1.6)\n",
      "Requirement already satisfied: traitlets>=4.3.1 in /Users/tarun/Documents/Spring 2025/DSCI550/DSCI550_Assignment3/myenv/lib/python3.10/site-packages (from ipywidgets) (5.14.3)\n",
      "Requirement already satisfied: comm>=0.1.3 in /Users/tarun/Documents/Spring 2025/DSCI550/DSCI550_Assignment3/myenv/lib/python3.10/site-packages (from ipywidgets) (0.2.2)\n",
      "Requirement already satisfied: widgetsnbextension~=4.0.14 in /Users/tarun/Documents/Spring 2025/DSCI550/DSCI550_Assignment3/myenv/lib/python3.10/site-packages (from ipywidgets) (4.0.14)\n",
      "Requirement already satisfied: ipython>=6.1.0 in /Users/tarun/Documents/Spring 2025/DSCI550/DSCI550_Assignment3/myenv/lib/python3.10/site-packages (from ipywidgets) (8.36.0)\n",
      "Requirement already satisfied: jupyterlab_widgets~=3.0.14 in /Users/tarun/Documents/Spring 2025/DSCI550/DSCI550_Assignment3/myenv/lib/python3.10/site-packages (from ipywidgets) (3.0.14)\n",
      "Requirement already satisfied: jedi>=0.16 in /Users/tarun/Documents/Spring 2025/DSCI550/DSCI550_Assignment3/myenv/lib/python3.10/site-packages (from ipython>=6.1.0->ipywidgets) (0.19.2)\n",
      "Requirement already satisfied: prompt_toolkit<3.1.0,>=3.0.41 in /Users/tarun/Documents/Spring 2025/DSCI550/DSCI550_Assignment3/myenv/lib/python3.10/site-packages (from ipython>=6.1.0->ipywidgets) (3.0.51)\n",
      "Requirement already satisfied: typing_extensions>=4.6 in /Users/tarun/Documents/Spring 2025/DSCI550/DSCI550_Assignment3/myenv/lib/python3.10/site-packages (from ipython>=6.1.0->ipywidgets) (4.13.2)\n",
      "Requirement already satisfied: decorator in /Users/tarun/Documents/Spring 2025/DSCI550/DSCI550_Assignment3/myenv/lib/python3.10/site-packages (from ipython>=6.1.0->ipywidgets) (5.2.1)\n",
      "Requirement already satisfied: pexpect>4.3 in /Users/tarun/Documents/Spring 2025/DSCI550/DSCI550_Assignment3/myenv/lib/python3.10/site-packages (from ipython>=6.1.0->ipywidgets) (4.9.0)\n",
      "Requirement already satisfied: matplotlib-inline in /Users/tarun/Documents/Spring 2025/DSCI550/DSCI550_Assignment3/myenv/lib/python3.10/site-packages (from ipython>=6.1.0->ipywidgets) (0.1.7)\n",
      "Requirement already satisfied: stack_data in /Users/tarun/Documents/Spring 2025/DSCI550/DSCI550_Assignment3/myenv/lib/python3.10/site-packages (from ipython>=6.1.0->ipywidgets) (0.6.3)\n",
      "Requirement already satisfied: pygments>=2.4.0 in /Users/tarun/Documents/Spring 2025/DSCI550/DSCI550_Assignment3/myenv/lib/python3.10/site-packages (from ipython>=6.1.0->ipywidgets) (2.19.1)\n",
      "Requirement already satisfied: exceptiongroup in /Users/tarun/Documents/Spring 2025/DSCI550/DSCI550_Assignment3/myenv/lib/python3.10/site-packages (from ipython>=6.1.0->ipywidgets) (1.2.2)\n",
      "Requirement already satisfied: parso<0.9.0,>=0.8.4 in /Users/tarun/Documents/Spring 2025/DSCI550/DSCI550_Assignment3/myenv/lib/python3.10/site-packages (from jedi>=0.16->ipython>=6.1.0->ipywidgets) (0.8.4)\n",
      "Requirement already satisfied: ptyprocess>=0.5 in /Users/tarun/Documents/Spring 2025/DSCI550/DSCI550_Assignment3/myenv/lib/python3.10/site-packages (from pexpect>4.3->ipython>=6.1.0->ipywidgets) (0.7.0)\n",
      "Requirement already satisfied: wcwidth in /Users/tarun/Documents/Spring 2025/DSCI550/DSCI550_Assignment3/myenv/lib/python3.10/site-packages (from prompt_toolkit<3.1.0,>=3.0.41->ipython>=6.1.0->ipywidgets) (0.2.13)\n",
      "Requirement already satisfied: executing>=1.2.0 in /Users/tarun/Documents/Spring 2025/DSCI550/DSCI550_Assignment3/myenv/lib/python3.10/site-packages (from stack_data->ipython>=6.1.0->ipywidgets) (2.2.0)\n",
      "Requirement already satisfied: pure-eval in /Users/tarun/Documents/Spring 2025/DSCI550/DSCI550_Assignment3/myenv/lib/python3.10/site-packages (from stack_data->ipython>=6.1.0->ipywidgets) (0.2.3)\n",
      "Requirement already satisfied: asttokens>=2.1.0 in /Users/tarun/Documents/Spring 2025/DSCI550/DSCI550_Assignment3/myenv/lib/python3.10/site-packages (from stack_data->ipython>=6.1.0->ipywidgets) (3.0.0)\n",
      "\u001b[33mWARNING: You are using pip version 21.2.3; however, version 25.1 is available.\n",
      "You should consider upgrading via the '/Users/tarun/Documents/Spring 2025/DSCI550/DSCI550_Assignment3/myenv/bin/python3 -m pip install --upgrade pip' command.\u001b[0m\n"
     ]
    }
   ],
   "source": [
    "!pip install ipywidgets\n",
    "import pandas as pd\n",
    "import pysolr\n",
    "import requests\n",
    "from tqdm.notebook import tqdm"
   ]
  },
  {
   "cell_type": "code",
   "execution_count": 5,
   "metadata": {},
   "outputs": [
    {
     "name": "stdout",
     "output_type": "stream",
     "text": [
      "['city', 'country', 'description', 'location', 'State', 'state_abbrev', 'longitude', 'latitude', 'city_longitude', 'city_latitude', 'Audio Evidence', 'Image/Video/Visual Evidence', 'Haunted Places Date', 'Haunted Places Witness Count', 'Time of Day', 'Apparition Type', 'Event Type', 'Deaths per Year', 'Average Potential Life Years Lost per Death', 'Deaths per 10,000 Adults', 'Percentage of Adults who Binge Drink 1+ Times per Month', 'Median Drinks per Binge', 'Top 25% Drinks per Binge', 'Median Binge per Month', 'Top 25% Binge per Month', 'Increase in Alcohol Deaths per Capita from 2015 to 2019', 'Male Proportion of Deaths', 'Percent Deaths from Chronic Causes', 'Percent Deaths from Acute Causes', 'Percent Deaths 35+', 'Percent Deaths under 21', 'Years of Life Lost per Year', 'Taxpayer Cost in 2010 (billions)', 'Inflation Adjusted Cost to 2022 (billions)', 'Inflation Adjusted Per Drink (2022)', 'avg_violent_crime', 'avg_murder_manslaughter', 'avg_property_crime', 'avg_temp_rank', 'avg_precip_rank', 'precip_category', 'Top_6_Primary_Substances (Per 100,000)', 'Alcohol (Per 100,000)', 'Heroin (Per 100,000)', 'Methamphetamine (Per 100,000)', 'Other Opiates/Synthetics (Per 100,000)', 'Marijuana/Hashish (Per 100,000)', 'Cocaine (Per 100,000)', 'daylight_hours', 'Filename', 'Caption', 'Detected Objects_x', 'Entity Labels', 'Entity Texts', 'GeoTopic Name', 'GeoTopic Latitude', 'GeoTopic Longitude', 'Detected Objects_y']\n"
     ]
    }
   ],
   "source": [
    "df = pd.read_csv('subset_haunted_places.csv')\n",
    "df\n",
    "print(df.columns.tolist())\n"
   ]
  },
  {
   "cell_type": "code",
   "execution_count": 6,
   "metadata": {},
   "outputs": [
    {
     "name": "stderr",
     "output_type": "stream",
     "text": [
      "1658it [00:00, 18632.21it/s]\n"
     ]
    }
   ],
   "source": [
    "from tqdm import tqdm\n",
    "json_docs = []\n",
    "doc_id = 0\n",
    "\n",
    "for index, row in tqdm(df.iterrows()):\n",
    "    json_doc = {}\n",
    "    \n",
    "    # Customize this string based on what you want to parse\n",
    "    text_parts = [\n",
    "        str(row.get('city', '')),\n",
    "        str(row.get('state', '')),\n",
    "        str(row.get('country', '')),\n",
    "        str(row.get('location', '')),\n",
    "        str(row.get('state', '')),\n",
    "        str(row.get('longitude', '')),\n",
    "        str(row.get('latitude', '')),\n",
    "        str(row.get('city_longitude', '')),\n",
    "        str(row.get('city_latitude', '')),\n",
    "        str(row.get('optional_LATITUDE1', '')),\n",
    "        str(row.get('optional_LATITUDE2', '')),\n",
    "        str(row.get('optional_LONGITUDE1', '')),\n",
    "        str(row.get('optional_LONGITUDE2', '')),\n",
    "        str(row.get('Optional_NAME1', '')),\n",
    "        str(row.get('Optional_NAME2', '')),\n",
    "        str(row.get('optional_LATITUDE3', '')),\n",
    "        str(row.get('optional_LATITUDE4', '')),\n",
    "        str(row.get('optional_LONGITUDE3', '')),\n",
    "        str(row.get('optional_LONGITUDE4', '')),\n",
    "        str(row.get('Optional_NAME3', '')),\n",
    "        str(row.get('Optional_NAME4', ''))        \n",
    "        \n",
    "    ]\n",
    "    \n",
    "    json_doc[\"text\"] = ' '.join(filter(None, text_parts))  # Filter out empty parts\n",
    "    json_doc[\"id\"] = str(doc_id)\n",
    "    doc_id += 1\n",
    "    json_docs.append(json_doc)\n"
   ]
  },
  {
   "cell_type": "code",
   "execution_count": 7,
   "metadata": {},
   "outputs": [],
   "source": [
    "core_name = 'haunted'\n",
    "# Create a client instance. The timeout and authentication options are not required.\n",
    "solr = pysolr.Solr('http://localhost:8983/solr/'+core_name, always_commit=True, timeout=10)"
   ]
  },
  {
   "cell_type": "code",
   "execution_count": 8,
   "metadata": {},
   "outputs": [
    {
     "name": "stderr",
     "output_type": "stream",
     "text": [
      "100%|███████████████████████████████████████████████████████████████████████████| 1658/1658 [00:24<00:00, 66.85it/s]\n"
     ]
    }
   ],
   "source": [
    "for doc in tqdm(json_docs):\n",
    "    # How you'd index data.\n",
    "    solr.add([\n",
    "        doc\n",
    "    ])"
   ]
  },
  {
   "cell_type": "code",
   "execution_count": null,
   "metadata": {},
   "outputs": [],
   "source": []
  }
 ],
 "metadata": {
  "kernelspec": {
   "display_name": "Python 3 (ipykernel)",
   "language": "python",
   "name": "python3"
  },
  "language_info": {
   "codemirror_mode": {
    "name": "ipython",
    "version": 3
   },
   "file_extension": ".py",
   "mimetype": "text/x-python",
   "name": "python",
   "nbconvert_exporter": "python",
   "pygments_lexer": "ipython3",
   "version": "3.10.0"
  }
 },
 "nbformat": 4,
 "nbformat_minor": 4
}
