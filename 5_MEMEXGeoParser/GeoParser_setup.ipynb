{
 "cells": [
  {
   "cell_type": "markdown",
   "metadata": {},
   "source": [
    "# The following steps were used to run Memex GeoParser\n",
    "1. Clone Repositories\n",
    "\n",
    "git clone https://github.com/nasa-jpl-memex/GeoParser.git\n",
    "\n",
    "2. File Setup\n",
    "\t•\tCreate a Haunted_places folder with the csv of haunted places in the following directory:\n",
    "\n",
    "GeoParser/examples/\n",
    "\n",
    "3. Start Docker Services\n",
    "\n",
    "cd GeoParser/Docker\n",
    "docker-compose up -d\n",
    "\n",
    "4. Python Environment\n",
    "\n",
    "python3 -m venv myenv\n",
    "source myenv/bin/activate\n",
    "pip install jupyterlab notebook pandas pysolr requests tqdm\n",
    "\n",
    "5. Copy Required Files\n",
    "\t•\tManually create and place these files into examples/haunted_places/:\n",
    "\t•\tcreate-haunted-core.sh\n",
    "\t•\tadd-haunted-fields.sh\n",
    "\t•\tingest_haunted_data.ipynb\n",
    "\t•\tsubset_haunted_places.csv\n",
    "\n",
    "6. Activate Solr Cores\n",
    "\n",
    "cd GeoParser/examples/haunted_places\n",
    "chmod +x create-core-haunted.sh\n",
    "./create-core-haunted.sh\n",
    "chmod +x add-fields-haunted.sh\n",
    "./add-fields-haunted.sh\n",
    "\n",
    "7. Run Jupyter Notebook\n",
    "\n",
    "jupyter notebook --allow-root\n",
    "\n",
    "\t•\tRun ingest_haunted_data.ipynb\n",
    "\n",
    "8. Open Django Web App\n",
    "\t•\tVisit: http://localhost:8000\n",
    "\n",
    "9. Configure in UI\n",
    "\t•\tSet Domain Name: haunted_index\n",
    "\t•\tSet Index Path: http://localhost:8983/solr/haunted/\n",
    "\t•\tClick Add Index\n",
    "\t•\tClick Database Icon Tab → GeoParse → View"
   ]
  }
 ],
 "metadata": {
  "language_info": {
   "name": "python"
  }
 },
 "nbformat": 4,
 "nbformat_minor": 2
}
