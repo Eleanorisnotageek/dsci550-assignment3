{
 "cells": [
  {
   "cell_type": "code",
   "execution_count": 12,
   "id": "8b6394ee",
   "metadata": {},
   "outputs": [],
   "source": [
    "import os\n",
    "import requests"
   ]
  },
  {
   "cell_type": "code",
   "execution_count": null,
   "id": "3bb852a6",
   "metadata": {},
   "outputs": [],
   "source": [
    "# Configuration\n",
    "FOLDER_ID = \"681426e3a30bc70090fb1571\"\n",
    "IMAGE_DIR = \"../4_ImageSpace/test_images\" \n",
    "API_URL = \"http://localhost:8989/api/v1/file\"\n",
    "\n"
   ]
  },
  {
   "cell_type": "code",
   "execution_count": null,
   "id": "08f59b4e",
   "metadata": {},
   "outputs": [
    {
     "name": "stdout",
     "output_type": "stream",
     "text": [
      "❌ Failed: _Little_Boy_Blue__the_missing_Royal_of_France__In.png | Status: 401 | Message: {\"message\": \"You must be logged in.\", \"type\": \"access\"}\n",
      "❌ Failed: __Drummond_Island___Drummond_Island_is_said_to_be.png | Status: 401 | Message: {\"message\": \"You must be logged in.\", \"type\": \"access\"}\n",
      "❌ Failed: _3_miles_S__of_Redondo_Beach___Apparitions_of_dead.png | Status: 401 | Message: {\"message\": \"You must be logged in.\", \"type\": \"access\"}\n",
      "❌ Failed: _formerly_listed_on_this_site_as_Moonlight_Inn_in.png | Status: 401 | Message: {\"message\": \"You must be logged in.\", \"type\": \"access\"}\n",
      "❌ Failed: _Garderner_s_Grave____located_when_you_walk_in_and.png | Status: 401 | Message: {\"message\": \"You must be logged in.\", \"type\": \"access\"}\n",
      "❌ Failed: __December_2005_Correction_Additional_Information_.png | Status: 401 | Message: {\"message\": \"You must be logged in.\", \"type\": \"access\"}\n"
     ]
    }
   ],
   "source": [
    "# Upload images\n",
    "for img_name in os.listdir(IMAGE_DIR):\n",
    "    if not img_name.lower().endswith((\".png\", \".jpg\", \".jpeg\")):\n",
    "        continue  \n",
    "\n",
    "    img_path = os.path.join(IMAGE_DIR, img_name)\n",
    "    with open(img_path, \"rb\") as f:\n",
    "        files = {\"file\": f}\n",
    "        params = {\n",
    "            \"parentType\": \"folder\",\n",
    "            \"parentId\": FOLDER_ID,\n",
    "            \"name\": img_name\n",
    "        }\n",
    "        response = requests.post(API_URL, params=params, files=files)\n",
    "\n",
    "        if response.status_code == 200:\n",
    "            print(f\" Uploaded: {img_name}\")\n",
    "        else:\n",
    "            print(f\"Failed: {img_name} | Status: {response.status_code} | Message: {response.text}\")\n",
    "\n"
   ]
  },
  {
   "cell_type": "code",
   "execution_count": null,
   "id": "3e5ae5c3",
   "metadata": {},
   "outputs": [],
   "source": []
  },
  {
   "cell_type": "code",
   "execution_count": null,
   "id": "ef7c1b4f",
   "metadata": {},
   "outputs": [],
   "source": []
  }
 ],
 "metadata": {
  "kernelspec": {
   "display_name": "Python 3",
   "language": "python",
   "name": "python3"
  },
  "language_info": {
   "codemirror_mode": {
    "name": "ipython",
    "version": 3
   },
   "file_extension": ".py",
   "mimetype": "text/x-python",
   "name": "python",
   "nbconvert_exporter": "python",
   "pygments_lexer": "ipython3",
   "version": "3.13.2"
  }
 },
 "nbformat": 4,
 "nbformat_minor": 5
}
